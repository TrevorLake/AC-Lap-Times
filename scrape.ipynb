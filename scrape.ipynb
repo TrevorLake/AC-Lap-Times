{
 "cells": [
  {
   "cell_type": "code",
   "execution_count": 8,
   "metadata": {},
   "outputs": [
    {
     "name": "stdout",
     "output_type": "stream",
     "text": [
      "Requirement already satisfied: BeautifulSoup4 in c:\\users\\chris\\anaconda3\\lib\\site-packages (4.12.2)\n",
      "Requirement already satisfied: soupsieve>1.2 in c:\\users\\chris\\anaconda3\\lib\\site-packages (from BeautifulSoup4) (2.4)\n"
     ]
    }
   ],
   "source": [
    "!pip install BeautifulSoup4"
   ]
  },
  {
   "cell_type": "code",
   "execution_count": 9,
   "metadata": {},
   "outputs": [],
   "source": [
    "import requests\n",
    "from bs4 import BeautifulSoup\n",
    "\n",
    "# Function to fetch and parse HTML content\n",
    "def extract_information(url):\n",
    "    # Send a GET request to the URL\n",
    "\n",
    "    print(url)\n",
    "    response = requests.get(url)\n",
    "    \n",
    "    # Check if the request was successful\n",
    "    if response.status_code == 200:\n",
    "        # Parse the HTML content\n",
    "        soup = BeautifulSoup(response.content, 'html.parser')\n",
    "        \n",
    "        # Example: Extracting title\n",
    "        title = soup.title.text.strip()\n",
    "        print(f\"Title: {title}\")\n",
    "        \n",
    "        # Example: Extracting all links\n",
    "        links = soup.find_all('a')\n",
    "        for link in links:\n",
    "            href = link.get('href')\n",
    "            if href:\n",
    "                print(f\"Link: {href}\")\n",
    "        \n",
    "        # Example: Extracting specific elements\n",
    "        # Assuming there's a <div> with class=\"content\"\n",
    "        content_div = soup.find('div', class_='content')\n",
    "        if content_div:\n",
    "            content = content_div.text.strip()\n",
    "            print(f\"Content: {content}\")\n",
    "        \n",
    "    else:\n",
    "        print(\"Failed to retrieve the page\")"
   ]
  },
  {
   "cell_type": "code",
   "execution_count": 2,
   "metadata": {},
   "outputs": [],
   "source": [
    "url = \"http://www.radiators-champ.com/RSRLiveTiming/index.php?page=rank&track=1007&car={}&rank_type=all&tyre_type=all&controller_type=all&community=all&friends=all\""
   ]
  },
  {
   "cell_type": "code",
   "execution_count": 3,
   "metadata": {},
   "outputs": [
    {
     "data": {
      "text/plain": [
       "'http://www.radiators-champ.com/RSRLiveTiming/index.php?page=rank&track=1007&car=1&rank_type=all&tyre_type=all&controller_type=all&community=all&friends=all'"
      ]
     },
     "execution_count": 3,
     "metadata": {},
     "output_type": "execute_result"
    }
   ],
   "source": [
    "url.format(1)"
   ]
  },
  {
   "cell_type": "code",
   "execution_count": 6,
   "metadata": {},
   "outputs": [
    {
     "name": "stdout",
     "output_type": "stream",
     "text": [
      "http://www.radiators-champ.com/RSRLiveTiming/index.php?page=rank&track=1007&car=1&rank_type=all&tyre_type=all&controller_type=all&community=all&friends=all\n",
      "Failed to retrieve the page\n"
     ]
    }
   ],
   "source": [
    "extract_information(url.format(1))"
   ]
  }
 ],
 "metadata": {
  "kernelspec": {
   "display_name": "base",
   "language": "python",
   "name": "python3"
  },
  "language_info": {
   "codemirror_mode": {
    "name": "ipython",
    "version": 3
   },
   "file_extension": ".py",
   "mimetype": "text/x-python",
   "name": "python",
   "nbconvert_exporter": "python",
   "pygments_lexer": "ipython3",
   "version": "3.11.5"
  }
 },
 "nbformat": 4,
 "nbformat_minor": 2
}
