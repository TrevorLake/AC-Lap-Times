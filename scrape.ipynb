{
 "cells": [
  {
   "cell_type": "code",
   "execution_count": 12,
   "metadata": {},
   "outputs": [],
   "source": [
    "import requests\n",
    "from bs4 import BeautifulSoup\n",
    "from datetime import datetime\n",
    "import numpy as np\n",
    "import re\n",
    "from collections import OrderedDict"
   ]
  },
  {
   "cell_type": "code",
   "execution_count": 13,
   "metadata": {},
   "outputs": [],
   "source": [
    "all_cars = {'2487': 'Abarth 500 Assetto Corse',\n",
    " '1': 'Abarth 500 EsseEsse',\n",
    " '52': 'Abarth 500 EsseEsse Step1',\n",
    " '2687': 'Abarth 595 SS',\n",
    " '2715': 'Abarth 595 SS Step 1',\n",
    " '2691': 'Abarth 595 SS Step 2',\n",
    " '1202': 'Alfa Romeo 155 TI V6',\n",
    " '7156': 'Alfa Romeo 33 Stradale',\n",
    " '1200': 'Alfa Romeo 4C',\n",
    " '6899': 'Alfa Romeo Giulia Quadrifoglio',\n",
    " '1201': 'Alfa Romeo GTA',\n",
    " '1757': 'Alfa Romeo Mito QV',\n",
    " '5307': 'Audi R18 e-tron quattro 2014',\n",
    " '5066': 'Audi R8 LMS 2016',\n",
    " '2170': 'Audi R8 LMS Ultra',\n",
    " '2421': 'Audi R8 V10 Plus',\n",
    " '3530': 'Audi S1',\n",
    " '1758': 'Audi Sport quattro',\n",
    " '4424': 'Audi Sport quattro S1 E2',\n",
    " '1880': 'Audi Sport quattro Step1',\n",
    " '5033': 'Audi TT Cup',\n",
    " '5060': 'Audi TT RS (VLN)',\n",
    " '64': 'BMW 1M',\n",
    " '71': 'BMW 1M Stage 3',\n",
    " '1208': 'BMW M235i Racing',\n",
    " '2': 'BMW M3 E30',\n",
    " '53': 'BMW M3 E30 Drift',\n",
    " '65': 'BMW M3 E30 Gr.A 92',\n",
    " '47': 'BMW M3 E30 Group A',\n",
    " '3': 'BMW M3 E30 Step1',\n",
    " '4': 'BMW M3 E92',\n",
    " '5': 'BMW M3 E92 drift',\n",
    " '6': 'BMW M3 E92 Step1',\n",
    " '7': 'BMW M3 GT2',\n",
    " '2168': 'BMW M4',\n",
    " '2165': 'BMW M4 Akrapovic',\n",
    " '8': 'BMW Z4 E89',\n",
    " '67': 'BMW Z4 E89 Drift',\n",
    " '9': 'BMW Z4 E89 Step1',\n",
    " '60': 'BMW Z4 GT3',\n",
    " '2688': 'Chevrolet Corvette C7 Stingray',\n",
    " '1209': 'Chevrolet Corvette C7R',\n",
    " '394': 'Dallara F312',\n",
    " '5129': 'Dallara F317',\n",
    " '5894': 'Ferrari 250 GTO',\n",
    " '5897': 'Ferrari 312/67',\n",
    " '78': 'Ferrari 312T',\n",
    " '5896': 'Ferrari 330 P4',\n",
    " '41': 'Ferrari 458 GT2',\n",
    " '10': 'Ferrari 458 Italia',\n",
    " '62': 'Ferrari 458 Italia Stage 3',\n",
    " '3401': 'Ferrari 488 GT3',\n",
    " '3533': 'Ferrari 488 GTB',\n",
    " '42': 'Ferrari 599XX EVO',\n",
    " '6253': 'Ferrari 812 Superfast',\n",
    " '3441': 'Ferrari F138',\n",
    " '5938': 'Ferrari F2004',\n",
    " '59': 'Ferrari F40',\n",
    " '61': 'Ferrari F40 Stage 3',\n",
    " '3531': 'Ferrari FXX K',\n",
    " '5895': 'Ferrari GTO',\n",
    " '431': 'Ferrari LaFerrari',\n",
    " '3455': 'Ferrari SF15-T',\n",
    " '6441': 'Ferrari SF70H',\n",
    " '2489': 'Ford Escort RS1600',\n",
    " '2171': 'Ford GT40',\n",
    " '2689': 'Ford Mustang 2015',\n",
    " '474': 'Giulietta QV',\n",
    " '829': 'Giulietta QV Launch Edition 2014',\n",
    " '11': 'KTM X-Bow R',\n",
    " '3402': 'Lamborghini Aventador SV',\n",
    " '2167': 'Lamborghini Countach',\n",
    " '2208': 'Lamborghini Countach S1',\n",
    " '2488': 'Lamborghini Gallardo SL',\n",
    " '2535': 'Lamborghini Gallardo SL Step3',\n",
    " '2166': 'Lamborghini Huracan GT3',\n",
    " '7576': 'Lamborghini Huracan Performant',\n",
    " '7685': 'Lamborghini Huracan Performante',\n",
    " '2268': 'Lamborghini Huracan ST',\n",
    " '1759': 'Lamborghini Miura P400 SV',\n",
    " '7003': 'Lamborghini Sesto Elemento',\n",
    " '12': 'Lotus 2-Eleven',\n",
    " '475': 'Lotus 2-Eleven GT4',\n",
    " '5034': 'Lotus 3-Eleven',\n",
    " '2265': 'Lotus 72D',\n",
    " '69': 'Lotus 98T',\n",
    " '14': 'Lotus Elise SC',\n",
    " '58': 'Lotus Elise SC Step1',\n",
    " '54': 'Lotus Elise SC Step2',\n",
    " '43': 'Lotus Evora GTC',\n",
    " '66': 'Lotus Evora GTE',\n",
    " '551': 'Lotus Evora GTE Carbon',\n",
    " '81': 'Lotus Evora GX',\n",
    " '55': 'Lotus Evora S',\n",
    " '72': 'Lotus Evora S Stage 2',\n",
    " '46': 'Lotus Exige 240R',\n",
    " '79': 'Lotus Exige 240R Stage3',\n",
    " '436': 'Lotus Exige S',\n",
    " '56': 'Lotus Exige S roadster',\n",
    " '15': 'Lotus Exige Scura',\n",
    " '552': 'Lotus Exige V6 CUP',\n",
    " '74': 'Lotus Exos 125',\n",
    " '76': 'Lotus Exos 125 Stage 1',\n",
    " '2491': 'Lotus Type 25',\n",
    " '13': 'Lotus Type 49',\n",
    " '3445': 'Maserati 250F 12 cylinder',\n",
    " '3443': 'Maserati 250F 6 cylinder',\n",
    " '7004': 'Maserati Alfieri',\n",
    " '3442': 'Maserati GranTurismo MC GT4',\n",
    " '3458': 'Maserati Levante S',\n",
    " '5158': 'Maserati MC12 GT1',\n",
    " '6921': 'Maserati Quattroporte GTS',\n",
    " '4757': 'Mazda 787B',\n",
    " '4756': 'Mazda Miata NA',\n",
    " '3221': 'Mazda MX5 Cup',\n",
    " '3222': 'Mazda MX5 ND',\n",
    " '3218': 'Mazda RX-7 Spirit R',\n",
    " '3250': 'Mazda RX-7 Tuned',\n",
    " '5114': 'McLaren 570S',\n",
    " '2490': 'McLaren 650S GT3',\n",
    " '1204': 'McLaren F1 GTR',\n",
    " '57': 'McLaren MP4-12C',\n",
    " '45': 'McLaren MP4-12C GT3',\n",
    " '1203': 'McLaren P1?',\n",
    " '5372': 'McLaren P1? GTR',\n",
    " '370': 'Mercedes SLS AMG',\n",
    " '399': 'Mercedes SLS AMG GT3',\n",
    " '1206': 'Mercedes-Benz 190E EVO II',\n",
    " '2501': 'Mercedes-Benz AMG GT3',\n",
    " '1207': 'Mercedes-Benz C9 1989 LM',\n",
    " '3281': 'Nissan 370z Nismo',\n",
    " '1205': 'Nissan GT-R GT3',\n",
    " '1754': 'Nissan GT-R NISMO',\n",
    " '3282': 'Nissan Skyline GTR R34 V-Spec',\n",
    " '16': 'P4/5 Competizione 2011',\n",
    " '77': 'Pagani Huayra',\n",
    " '7005': 'Pagani Huayra BC',\n",
    " '17': 'Pagani Zonda R',\n",
    " '4013': 'Porsche 718 Boxster S',\n",
    " '4014': 'Porsche 718 Boxster S PDK',\n",
    " '3682': 'Porsche 718 Cayman S',\n",
    " '4015': 'Porsche 718 RS 60 Spyder',\n",
    " '4104': 'Porsche 908 LH',\n",
    " '3710': 'Porsche 911 Carrera RSR 3.0',\n",
    " '3679': 'Porsche 911 Carrera S',\n",
    " '4011': 'Porsche 911 GT1-98',\n",
    " '4133': 'Porsche 911 GT3 Cup 2017',\n",
    " '4148': 'Porsche 911 GT3 R 2016',\n",
    " '4016': 'Porsche 911 GT3 RS',\n",
    " '4091': 'Porsche 911 R',\n",
    " '4760': 'Porsche 911 RSR 2017',\n",
    " '4127': 'Porsche 911 Turbo S',\n",
    " '4092': 'Porsche 917 K',\n",
    " '3680': 'Porsche 917/30 Spyder',\n",
    " '3709': 'Porsche 918 Spyder',\n",
    " '4010': 'Porsche 919 Hybrid 2015',\n",
    " '4093': 'Porsche 919 Hybrid 2016',\n",
    " '3739': 'Porsche 935/78 Moby Dick',\n",
    " '4020': 'Porsche 962 C Long Tail',\n",
    " '4012': 'Porsche 962 C Short Tail',\n",
    " '4024': 'Porsche Cayenne Turbo S',\n",
    " '4009': 'Porsche Cayman GT4',\n",
    " '3740': 'Porsche Cayman GT4 Clubsport',\n",
    " '4157': 'Porsche Macan Turbo',\n",
    " '3683': 'Porsche Panamera Turbo',\n",
    " '3532': 'Praga R1',\n",
    " '850': 'RUF CTR Yellowbird',\n",
    " '2202': 'RUF RT12 R',\n",
    " '2199': 'RUF RT12 R AWD',\n",
    " '2169': 'SCG 003C',\n",
    " '476': 'Shelby Cobra 427 S/C',\n",
    " '18': 'Tatuus FA01',\n",
    " '3219': 'Toyota AE86',\n",
    " '3224': 'Toyota AE86 Drift',\n",
    " '3223': 'Toyota AE86 Tuned',\n",
    " '5373': 'Toyota Celica ST185 4WD Turbo',\n",
    " '1753': 'Toyota GT86',\n",
    " '3216': 'Toyota Supra MKIV',\n",
    " '3217': 'Toyota Supra MKIV Drift',\n",
    " '3260': 'Toyota Supra MKIV Time Attack',\n",
    " '5386': 'Toyota TS040 Hybrid 2014'}"
   ]
  },
  {
   "cell_type": "code",
   "execution_count": 14,
   "metadata": {},
   "outputs": [
    {
     "name": "stdout",
     "output_type": "stream",
     "text": [
      "Fetching data: Abarth 500 Assetto Corse\n",
      "Total times: 214\n",
      "Fetching data: Abarth 500 EsseEsse\n",
      "Total times: 100\n",
      "Fetching data: Abarth 500 EsseEsse Step1\n",
      "Total times: 92\n",
      "Fetching data: Abarth 595 SS\n",
      "Total times: 50\n",
      "Fetching data: Abarth 595 SS Step 1\n",
      "Total times: 11\n",
      "Fetching data: Abarth 595 SS Step 2\n",
      "Total times: 25\n",
      "Fetching data: Alfa Romeo 155 TI V6\n"
     ]
    },
    {
     "name": "stderr",
     "output_type": "stream",
     "text": [
      "Some characters could not be decoded, and were replaced with REPLACEMENT CHARACTER.\n"
     ]
    },
    {
     "name": "stdout",
     "output_type": "stream",
     "text": [
      "Total times: 500\n",
      "Fetching data: Alfa Romeo 33 Stradale\n"
     ]
    },
    {
     "name": "stderr",
     "output_type": "stream",
     "text": [
      "Some characters could not be decoded, and were replaced with REPLACEMENT CHARACTER.\n"
     ]
    },
    {
     "name": "stdout",
     "output_type": "stream",
     "text": [
      "Total times: 165\n",
      "Fetching data: Alfa Romeo 4C\n",
      "Total times: 135\n",
      "Fetching data: Alfa Romeo Giulia Quadrifoglio\n"
     ]
    },
    {
     "name": "stderr",
     "output_type": "stream",
     "text": [
      "Some characters could not be decoded, and were replaced with REPLACEMENT CHARACTER.\n"
     ]
    },
    {
     "name": "stdout",
     "output_type": "stream",
     "text": [
      "Total times: 587\n",
      "Fetching data: Alfa Romeo GTA\n",
      "Total times: 74\n",
      "Fetching data: Alfa Romeo Mito QV\n",
      "Total times: 50\n",
      "Fetching data: Audi R18 e-tron quattro 2014\n"
     ]
    },
    {
     "name": "stderr",
     "output_type": "stream",
     "text": [
      "Some characters could not be decoded, and were replaced with REPLACEMENT CHARACTER.\n",
      "Some characters could not be decoded, and were replaced with REPLACEMENT CHARACTER.\n"
     ]
    },
    {
     "name": "stdout",
     "output_type": "stream",
     "text": [
      "Total times: 283\n",
      "Fetching data: Audi R8 LMS 2016\n",
      "Total times: 629\n",
      "Fetching data: Audi R8 LMS Ultra\n"
     ]
    },
    {
     "name": "stderr",
     "output_type": "stream",
     "text": [
      "Some characters could not be decoded, and were replaced with REPLACEMENT CHARACTER.\n"
     ]
    },
    {
     "name": "stdout",
     "output_type": "stream",
     "text": [
      "Total times: 450\n",
      "Fetching data: Audi R8 V10 Plus\n"
     ]
    },
    {
     "name": "stderr",
     "output_type": "stream",
     "text": [
      "Some characters could not be decoded, and were replaced with REPLACEMENT CHARACTER.\n"
     ]
    },
    {
     "name": "stdout",
     "output_type": "stream",
     "text": [
      "Total times: 100\n",
      "Fetching data: Audi S1\n",
      "Total times: 131\n",
      "Fetching data: Audi Sport quattro\n",
      "Total times: 26\n",
      "Fetching data: Audi Sport quattro S1 E2\n",
      "Total times: 78\n",
      "Fetching data: Audi Sport quattro Step1\n",
      "Total times: 16\n",
      "Fetching data: Audi TT Cup\n",
      "Total times: 336\n",
      "Fetching data: Audi TT RS (VLN)\n",
      "Total times: 186\n",
      "Fetching data: BMW 1M\n",
      "Total times: 69\n",
      "Fetching data: BMW 1M Stage 3\n"
     ]
    },
    {
     "name": "stderr",
     "output_type": "stream",
     "text": [
      "Some characters could not be decoded, and were replaced with REPLACEMENT CHARACTER.\n"
     ]
    },
    {
     "name": "stdout",
     "output_type": "stream",
     "text": [
      "Total times: 50\n",
      "Fetching data: BMW M235i Racing\n",
      "Total times: 275\n",
      "Fetching data: BMW M3 E30\n",
      "Total times: 100\n",
      "Fetching data: BMW M3 E30 Drift\n",
      "Total times: 0\n",
      "Fetching data: BMW M3 E30 Gr.A 92\n",
      "Total times: 535\n",
      "Fetching data: BMW M3 E30 Group A\n",
      "Total times: 50\n",
      "Fetching data: BMW M3 E30 Step1\n",
      "Total times: 42\n",
      "Fetching data: BMW M3 E92\n",
      "Total times: 145\n",
      "Fetching data: BMW M3 E92 drift\n",
      "Total times: 0\n",
      "Fetching data: BMW M3 E92 Step1\n",
      "Total times: 38\n",
      "Fetching data: BMW M3 GT2\n"
     ]
    },
    {
     "name": "stderr",
     "output_type": "stream",
     "text": [
      "Some characters could not be decoded, and were replaced with REPLACEMENT CHARACTER.\n",
      "Some characters could not be decoded, and were replaced with REPLACEMENT CHARACTER.\n",
      "Some characters could not be decoded, and were replaced with REPLACEMENT CHARACTER.\n",
      "Some characters could not be decoded, and were replaced with REPLACEMENT CHARACTER.\n"
     ]
    },
    {
     "name": "stdout",
     "output_type": "stream",
     "text": [
      "Total times: 1092\n",
      "Fetching data: BMW M4\n",
      "Total times: 66\n",
      "Fetching data: BMW M4 Akrapovic\n",
      "Total times: 61\n",
      "Fetching data: BMW Z4 E89\n",
      "Total times: 27\n",
      "Fetching data: BMW Z4 E89 Drift\n",
      "Total times: 0\n",
      "Fetching data: BMW Z4 E89 Step1\n",
      "Total times: 22\n",
      "Fetching data: BMW Z4 GT3\n"
     ]
    },
    {
     "name": "stderr",
     "output_type": "stream",
     "text": [
      "Some characters could not be decoded, and were replaced with REPLACEMENT CHARACTER.\n",
      "Some characters could not be decoded, and were replaced with REPLACEMENT CHARACTER.\n",
      "Some characters could not be decoded, and were replaced with REPLACEMENT CHARACTER.\n",
      "Some characters could not be decoded, and were replaced with REPLACEMENT CHARACTER.\n",
      "Some characters could not be decoded, and were replaced with REPLACEMENT CHARACTER.\n"
     ]
    },
    {
     "name": "stdout",
     "output_type": "stream",
     "text": [
      "Total times: 1616\n",
      "Fetching data: Chevrolet Corvette C7 Stingray\n"
     ]
    },
    {
     "name": "stderr",
     "output_type": "stream",
     "text": [
      "Some characters could not be decoded, and were replaced with REPLACEMENT CHARACTER.\n"
     ]
    },
    {
     "name": "stdout",
     "output_type": "stream",
     "text": [
      "Total times: 100\n",
      "Fetching data: Chevrolet Corvette C7R\n",
      "Total times: 424\n",
      "Fetching data: Dallara F312\n",
      "Total times: 328\n",
      "Fetching data: Dallara F317\n",
      "Total times: 477\n",
      "Fetching data: Ferrari 250 GTO\n",
      "Total times: 115\n",
      "Fetching data: Ferrari 312/67\n",
      "Total times: 124\n",
      "Fetching data: Ferrari 312T\n",
      "Total times: 369\n",
      "Fetching data: Ferrari 330 P4\n",
      "Total times: 100\n",
      "Fetching data: Ferrari 458 GT2\n"
     ]
    },
    {
     "name": "stderr",
     "output_type": "stream",
     "text": [
      "Some characters could not be decoded, and were replaced with REPLACEMENT CHARACTER.\n",
      "Some characters could not be decoded, and were replaced with REPLACEMENT CHARACTER.\n",
      "Some characters could not be decoded, and were replaced with REPLACEMENT CHARACTER.\n",
      "Some characters could not be decoded, and were replaced with REPLACEMENT CHARACTER.\n"
     ]
    },
    {
     "name": "stdout",
     "output_type": "stream",
     "text": [
      "Total times: 3500\n",
      "Fetching data: Ferrari 458 Italia\n",
      "Total times: 843\n",
      "Fetching data: Ferrari 458 Italia Stage 3\n"
     ]
    },
    {
     "name": "stderr",
     "output_type": "stream",
     "text": [
      "Some characters could not be decoded, and were replaced with REPLACEMENT CHARACTER.\n",
      "Some characters could not be decoded, and were replaced with REPLACEMENT CHARACTER.\n"
     ]
    },
    {
     "name": "stdout",
     "output_type": "stream",
     "text": [
      "Total times: 898\n",
      "Fetching data: Ferrari 488 GT3\n"
     ]
    },
    {
     "name": "stderr",
     "output_type": "stream",
     "text": [
      "Some characters could not be decoded, and were replaced with REPLACEMENT CHARACTER.\n",
      "Some characters could not be decoded, and were replaced with REPLACEMENT CHARACTER.\n"
     ]
    },
    {
     "name": "stdout",
     "output_type": "stream",
     "text": [
      "Total times: 1225\n",
      "Fetching data: Ferrari 488 GTB\n"
     ]
    },
    {
     "name": "stderr",
     "output_type": "stream",
     "text": [
      "Some characters could not be decoded, and were replaced with REPLACEMENT CHARACTER.\n",
      "Some characters could not be decoded, and were replaced with REPLACEMENT CHARACTER.\n"
     ]
    },
    {
     "name": "stdout",
     "output_type": "stream",
     "text": [
      "Total times: 164\n",
      "Fetching data: Ferrari 599XX EVO\n"
     ]
    },
    {
     "name": "stderr",
     "output_type": "stream",
     "text": [
      "Some characters could not be decoded, and were replaced with REPLACEMENT CHARACTER.\n",
      "Some characters could not be decoded, and were replaced with REPLACEMENT CHARACTER.\n",
      "Some characters could not be decoded, and were replaced with REPLACEMENT CHARACTER.\n",
      "Some characters could not be decoded, and were replaced with REPLACEMENT CHARACTER.\n"
     ]
    },
    {
     "name": "stdout",
     "output_type": "stream",
     "text": [
      "Total times: 1600\n",
      "Fetching data: Ferrari 812 Superfast\n",
      "Total times: 169\n",
      "Fetching data: Ferrari F138\n"
     ]
    },
    {
     "name": "stderr",
     "output_type": "stream",
     "text": [
      "Some characters could not be decoded, and were replaced with REPLACEMENT CHARACTER.\n",
      "Some characters could not be decoded, and were replaced with REPLACEMENT CHARACTER.\n",
      "Some characters could not be decoded, and were replaced with REPLACEMENT CHARACTER.\n",
      "Some characters could not be decoded, and were replaced with REPLACEMENT CHARACTER.\n"
     ]
    },
    {
     "name": "stdout",
     "output_type": "stream",
     "text": [
      "Total times: 1481\n",
      "Fetching data: Ferrari F2004\n"
     ]
    },
    {
     "name": "stderr",
     "output_type": "stream",
     "text": [
      "Some characters could not be decoded, and were replaced with REPLACEMENT CHARACTER.\n",
      "Some characters could not be decoded, and were replaced with REPLACEMENT CHARACTER.\n",
      "Some characters could not be decoded, and were replaced with REPLACEMENT CHARACTER.\n",
      "Some characters could not be decoded, and were replaced with REPLACEMENT CHARACTER.\n",
      "Some characters could not be decoded, and were replaced with REPLACEMENT CHARACTER.\n",
      "Some characters could not be decoded, and were replaced with REPLACEMENT CHARACTER.\n",
      "Some characters could not be decoded, and were replaced with REPLACEMENT CHARACTER.\n",
      "Some characters could not be decoded, and were replaced with REPLACEMENT CHARACTER.\n"
     ]
    },
    {
     "name": "stdout",
     "output_type": "stream",
     "text": [
      "Total times: 2683\n",
      "Fetching data: Ferrari F40\n"
     ]
    },
    {
     "name": "stderr",
     "output_type": "stream",
     "text": [
      "Some characters could not be decoded, and were replaced with REPLACEMENT CHARACTER.\n"
     ]
    },
    {
     "name": "stdout",
     "output_type": "stream",
     "text": [
      "Total times: 150\n",
      "Fetching data: Ferrari F40 Stage 3\n",
      "Total times: 100\n",
      "Fetching data: Ferrari FXX K\n"
     ]
    },
    {
     "name": "stderr",
     "output_type": "stream",
     "text": [
      "Some characters could not be decoded, and were replaced with REPLACEMENT CHARACTER.\n"
     ]
    },
    {
     "name": "stdout",
     "output_type": "stream",
     "text": [
      "Total times: 322\n",
      "Fetching data: Ferrari GTO\n",
      "Total times: 100\n",
      "Fetching data: Ferrari LaFerrari\n"
     ]
    },
    {
     "name": "stderr",
     "output_type": "stream",
     "text": [
      "Some characters could not be decoded, and were replaced with REPLACEMENT CHARACTER.\n"
     ]
    },
    {
     "name": "stdout",
     "output_type": "stream",
     "text": [
      "Total times: 300\n",
      "Fetching data: Ferrari SF15-T\n"
     ]
    },
    {
     "name": "stderr",
     "output_type": "stream",
     "text": [
      "Some characters could not be decoded, and were replaced with REPLACEMENT CHARACTER.\n"
     ]
    },
    {
     "name": "stdout",
     "output_type": "stream",
     "text": [
      "Total times: 594\n",
      "Fetching data: Ferrari SF70H\n"
     ]
    },
    {
     "name": "stderr",
     "output_type": "stream",
     "text": [
      "Some characters could not be decoded, and were replaced with REPLACEMENT CHARACTER.\n",
      "Some characters could not be decoded, and were replaced with REPLACEMENT CHARACTER.\n"
     ]
    },
    {
     "name": "stdout",
     "output_type": "stream",
     "text": [
      "Total times: 1275\n",
      "Fetching data: Ford Escort RS1600\n",
      "Total times: 66\n",
      "Fetching data: Ford GT40\n",
      "Total times: 65\n",
      "Fetching data: Ford Mustang 2015\n",
      "Total times: 113\n",
      "Fetching data: Giulietta QV\n",
      "Total times: 31\n",
      "Fetching data: Giulietta QV Launch Edition 2014\n",
      "Total times: 50\n",
      "Fetching data: KTM X-Bow R\n",
      "Total times: 150\n",
      "Fetching data: Lamborghini Aventador SV\n",
      "Total times: 100\n",
      "Fetching data: Lamborghini Countach\n"
     ]
    },
    {
     "name": "stderr",
     "output_type": "stream",
     "text": [
      "Some characters could not be decoded, and were replaced with REPLACEMENT CHARACTER.\n"
     ]
    },
    {
     "name": "stdout",
     "output_type": "stream",
     "text": [
      "Total times: 50\n",
      "Fetching data: Lamborghini Countach S1\n",
      "Total times: 25\n",
      "Fetching data: Lamborghini Gallardo SL\n"
     ]
    },
    {
     "name": "stderr",
     "output_type": "stream",
     "text": [
      "Some characters could not be decoded, and were replaced with REPLACEMENT CHARACTER.\n",
      "Some characters could not be decoded, and were replaced with REPLACEMENT CHARACTER.\n"
     ]
    },
    {
     "name": "stdout",
     "output_type": "stream",
     "text": [
      "Total times: 699\n",
      "Fetching data: Lamborghini Gallardo SL Step3\n",
      "Total times: 45\n",
      "Fetching data: Lamborghini Huracan GT3\n"
     ]
    },
    {
     "name": "stderr",
     "output_type": "stream",
     "text": [
      "Some characters could not be decoded, and were replaced with REPLACEMENT CHARACTER.\n",
      "Some characters could not be decoded, and were replaced with REPLACEMENT CHARACTER.\n",
      "Some characters could not be decoded, and were replaced with REPLACEMENT CHARACTER.\n",
      "Some characters could not be decoded, and were replaced with REPLACEMENT CHARACTER.\n"
     ]
    },
    {
     "name": "stdout",
     "output_type": "stream",
     "text": [
      "Total times: 2100\n",
      "Fetching data: Lamborghini Huracan Performant\n",
      "Total times: 0\n",
      "Fetching data: Lamborghini Huracan Performante\n",
      "Total times: 0\n",
      "Fetching data: Lamborghini Huracan ST\n",
      "Total times: 266\n",
      "Fetching data: Lamborghini Miura P400 SV\n",
      "Total times: 36\n",
      "Fetching data: Lamborghini Sesto Elemento\n"
     ]
    },
    {
     "name": "stderr",
     "output_type": "stream",
     "text": [
      "Some characters could not be decoded, and were replaced with REPLACEMENT CHARACTER.\n"
     ]
    },
    {
     "name": "stdout",
     "output_type": "stream",
     "text": [
      "Total times: 100\n",
      "Fetching data: Lotus 2-Eleven\n",
      "Total times: 211\n",
      "Fetching data: Lotus 2-Eleven GT4\n",
      "Total times: 73\n",
      "Fetching data: Lotus 3-Eleven\n",
      "Total times: 80\n",
      "Fetching data: Lotus 72D\n",
      "Total times: 133\n",
      "Fetching data: Lotus 98T\n",
      "Total times: 549\n",
      "Fetching data: Lotus Elise SC\n",
      "Total times: 49\n",
      "Fetching data: Lotus Elise SC Step1\n",
      "Total times: 18\n",
      "Fetching data: Lotus Elise SC Step2\n",
      "Total times: 30\n",
      "Fetching data: Lotus Evora GTC\n",
      "Total times: 128\n",
      "Fetching data: Lotus Evora GTE\n",
      "Total times: 18\n",
      "Fetching data: Lotus Evora GTE Carbon\n",
      "Total times: 17\n",
      "Fetching data: Lotus Evora GX\n",
      "Total times: 110\n",
      "Fetching data: Lotus Evora S\n",
      "Total times: 15\n",
      "Fetching data: Lotus Evora S Stage 2\n",
      "Total times: 14\n",
      "Fetching data: Lotus Exige 240R\n",
      "Total times: 40\n",
      "Fetching data: Lotus Exige 240R Stage3\n",
      "Total times: 30\n",
      "Fetching data: Lotus Exige S\n",
      "Total times: 19\n",
      "Fetching data: Lotus Exige S roadster\n",
      "Total times: 14\n",
      "Fetching data: Lotus Exige Scura\n",
      "Total times: 21\n",
      "Fetching data: Lotus Exige V6 CUP\n",
      "Total times: 43\n",
      "Fetching data: Lotus Exos 125\n"
     ]
    },
    {
     "name": "stderr",
     "output_type": "stream",
     "text": [
      "Some characters could not be decoded, and were replaced with REPLACEMENT CHARACTER.\n",
      "Some characters could not be decoded, and were replaced with REPLACEMENT CHARACTER.\n",
      "Some characters could not be decoded, and were replaced with REPLACEMENT CHARACTER.\n"
     ]
    },
    {
     "name": "stdout",
     "output_type": "stream",
     "text": [
      "Total times: 733\n",
      "Fetching data: Lotus Exos 125 Stage 1\n"
     ]
    },
    {
     "name": "stderr",
     "output_type": "stream",
     "text": [
      "Some characters could not be decoded, and were replaced with REPLACEMENT CHARACTER.\n",
      "Some characters could not be decoded, and were replaced with REPLACEMENT CHARACTER.\n",
      "Some characters could not be decoded, and were replaced with REPLACEMENT CHARACTER.\n"
     ]
    },
    {
     "name": "stdout",
     "output_type": "stream",
     "text": [
      "Total times: 2637\n",
      "Fetching data: Lotus Type 25\n",
      "Total times: 33\n",
      "Fetching data: Lotus Type 49\n",
      "Total times: 116\n",
      "Fetching data: Maserati 250F 12 cylinder\n",
      "Total times: 30\n",
      "Fetching data: Maserati 250F 6 cylinder\n",
      "Total times: 30\n",
      "Fetching data: Maserati Alfieri\n",
      "Total times: 41\n",
      "Fetching data: Maserati GranTurismo MC GT4\n",
      "Total times: 187\n",
      "Fetching data: Maserati Levante S\n",
      "Total times: 26\n",
      "Fetching data: Maserati MC12 GT1\n",
      "Total times: 247\n",
      "Fetching data: Maserati Quattroporte GTS\n",
      "Total times: 36\n",
      "Fetching data: Mazda 787B\n"
     ]
    },
    {
     "name": "stderr",
     "output_type": "stream",
     "text": [
      "Some characters could not be decoded, and were replaced with REPLACEMENT CHARACTER.\n"
     ]
    },
    {
     "name": "stdout",
     "output_type": "stream",
     "text": [
      "Total times: 450\n",
      "Fetching data: Mazda Miata NA\n",
      "Total times: 93\n",
      "Fetching data: Mazda MX5 Cup\n"
     ]
    },
    {
     "name": "stderr",
     "output_type": "stream",
     "text": [
      "Some characters could not be decoded, and were replaced with REPLACEMENT CHARACTER.\n",
      "Some characters could not be decoded, and were replaced with REPLACEMENT CHARACTER.\n",
      "Some characters could not be decoded, and were replaced with REPLACEMENT CHARACTER.\n"
     ]
    },
    {
     "name": "stdout",
     "output_type": "stream",
     "text": [
      "Total times: 590\n",
      "Fetching data: Mazda MX5 ND\n",
      "Total times: 94\n",
      "Fetching data: Mazda RX-7 Spirit R\n",
      "Total times: 50\n",
      "Fetching data: Mazda RX-7 Tuned\n",
      "Total times: 62\n",
      "Fetching data: McLaren 570S\n",
      "Total times: 50\n",
      "Fetching data: McLaren 650S GT3\n",
      "Total times: 661\n",
      "Fetching data: McLaren F1 GTR\n",
      "Total times: 179\n",
      "Fetching data: McLaren MP4-12C\n"
     ]
    },
    {
     "name": "stderr",
     "output_type": "stream",
     "text": [
      "Some characters could not be decoded, and were replaced with REPLACEMENT CHARACTER.\n",
      "Some characters could not be decoded, and were replaced with REPLACEMENT CHARACTER.\n"
     ]
    },
    {
     "name": "stdout",
     "output_type": "stream",
     "text": [
      "Total times: 800\n",
      "Fetching data: McLaren MP4-12C GT3\n"
     ]
    },
    {
     "name": "stderr",
     "output_type": "stream",
     "text": [
      "Some characters could not be decoded, and were replaced with REPLACEMENT CHARACTER.\n"
     ]
    },
    {
     "name": "stdout",
     "output_type": "stream",
     "text": [
      "Total times: 962\n",
      "Fetching data: McLaren P1?\n",
      "Total times: 150\n",
      "Fetching data: McLaren P1? GTR\n",
      "Total times: 241\n",
      "Fetching data: Mercedes SLS AMG\n"
     ]
    },
    {
     "name": "stderr",
     "output_type": "stream",
     "text": [
      "Some characters could not be decoded, and were replaced with REPLACEMENT CHARACTER.\n"
     ]
    },
    {
     "name": "stdout",
     "output_type": "stream",
     "text": [
      "Total times: 598\n",
      "Fetching data: Mercedes SLS AMG GT3\n",
      "Total times: 1075\n",
      "Fetching data: Mercedes-Benz 190E EVO II\n",
      "Total times: 349\n",
      "Fetching data: Mercedes-Benz AMG GT3\n"
     ]
    },
    {
     "name": "stderr",
     "output_type": "stream",
     "text": [
      "Some characters could not be decoded, and were replaced with REPLACEMENT CHARACTER.\n",
      "Some characters could not be decoded, and were replaced with REPLACEMENT CHARACTER.\n"
     ]
    },
    {
     "name": "stdout",
     "output_type": "stream",
     "text": [
      "Total times: 799\n",
      "Fetching data: Mercedes-Benz C9 1989 LM\n",
      "Total times: 171\n",
      "Fetching data: Nissan 370z Nismo\n",
      "Total times: 61\n",
      "Fetching data: Nissan GT-R GT3\n",
      "Total times: 714\n",
      "Fetching data: Nissan GT-R NISMO\n",
      "Total times: 150\n",
      "Fetching data: Nissan Skyline GTR R34 V-Spec\n"
     ]
    },
    {
     "name": "stderr",
     "output_type": "stream",
     "text": [
      "Some characters could not be decoded, and were replaced with REPLACEMENT CHARACTER.\n"
     ]
    },
    {
     "name": "stdout",
     "output_type": "stream",
     "text": [
      "Total times: 115\n",
      "Fetching data: P4/5 Competizione 2011\n",
      "Total times: 187\n",
      "Fetching data: Pagani Huayra\n",
      "Total times: 139\n",
      "Fetching data: Pagani Huayra BC\n"
     ]
    },
    {
     "name": "stderr",
     "output_type": "stream",
     "text": [
      "Some characters could not be decoded, and were replaced with REPLACEMENT CHARACTER.\n"
     ]
    },
    {
     "name": "stdout",
     "output_type": "stream",
     "text": [
      "Total times: 100\n",
      "Fetching data: Pagani Zonda R\n"
     ]
    },
    {
     "name": "stderr",
     "output_type": "stream",
     "text": [
      "Some characters could not be decoded, and were replaced with REPLACEMENT CHARACTER.\n"
     ]
    },
    {
     "name": "stdout",
     "output_type": "stream",
     "text": [
      "Total times: 348\n",
      "Fetching data: Porsche 718 Boxster S\n",
      "Total times: 40\n",
      "Fetching data: Porsche 718 Boxster S PDK\n",
      "Total times: 44\n",
      "Fetching data: Porsche 718 Cayman S\n",
      "Total times: 50\n",
      "Fetching data: Porsche 718 RS 60 Spyder\n",
      "Total times: 28\n",
      "Fetching data: Porsche 908 LH\n",
      "Total times: 50\n",
      "Fetching data: Porsche 911 Carrera RSR 3.0\n",
      "Total times: 125\n",
      "Fetching data: Porsche 911 Carrera S\n"
     ]
    },
    {
     "name": "stderr",
     "output_type": "stream",
     "text": [
      "Some characters could not be decoded, and were replaced with REPLACEMENT CHARACTER.\n"
     ]
    },
    {
     "name": "stdout",
     "output_type": "stream",
     "text": [
      "Total times: 91\n",
      "Fetching data: Porsche 911 GT1-98\n",
      "Total times: 168\n",
      "Fetching data: Porsche 911 GT3 Cup 2017\n"
     ]
    },
    {
     "name": "stderr",
     "output_type": "stream",
     "text": [
      "Some characters could not be decoded, and were replaced with REPLACEMENT CHARACTER.\n"
     ]
    },
    {
     "name": "stdout",
     "output_type": "stream",
     "text": [
      "Total times: 1000\n",
      "Fetching data: Porsche 911 GT3 R 2016\n",
      "Total times: 915\n",
      "Fetching data: Porsche 911 GT3 RS\n",
      "Total times: 325\n",
      "Fetching data: Porsche 911 R\n",
      "Total times: 118\n",
      "Fetching data: Porsche 911 RSR 2017\n",
      "Total times: 1264\n",
      "Fetching data: Porsche 911 Turbo S\n",
      "Total times: 89\n",
      "Fetching data: Porsche 917 K\n",
      "Total times: 115\n",
      "Fetching data: Porsche 917/30 Spyder\n",
      "Total times: 87\n",
      "Fetching data: Porsche 918 Spyder\n",
      "Total times: 94\n",
      "Fetching data: Porsche 919 Hybrid 2015\n"
     ]
    },
    {
     "name": "stderr",
     "output_type": "stream",
     "text": [
      "Some characters could not be decoded, and were replaced with REPLACEMENT CHARACTER.\n"
     ]
    },
    {
     "name": "stdout",
     "output_type": "stream",
     "text": [
      "Total times: 485\n",
      "Fetching data: Porsche 919 Hybrid 2016\n"
     ]
    },
    {
     "name": "stderr",
     "output_type": "stream",
     "text": [
      "Some characters could not be decoded, and were replaced with REPLACEMENT CHARACTER.\n",
      "Some characters could not be decoded, and were replaced with REPLACEMENT CHARACTER.\n"
     ]
    },
    {
     "name": "stdout",
     "output_type": "stream",
     "text": [
      "Total times: 539\n",
      "Fetching data: Porsche 935/78 Moby Dick\n"
     ]
    },
    {
     "name": "stderr",
     "output_type": "stream",
     "text": [
      "Some characters could not be decoded, and were replaced with REPLACEMENT CHARACTER.\n",
      "Some characters could not be decoded, and were replaced with REPLACEMENT CHARACTER.\n"
     ]
    },
    {
     "name": "stdout",
     "output_type": "stream",
     "text": [
      "Total times: 444\n",
      "Fetching data: Porsche 962 C Long Tail\n",
      "Total times: 122\n",
      "Fetching data: Porsche 962 C Short Tail\n",
      "Total times: 150\n",
      "Fetching data: Porsche Cayenne Turbo S\n",
      "Total times: 23\n",
      "Fetching data: Porsche Cayman GT4\n",
      "Total times: 88\n",
      "Fetching data: Porsche Cayman GT4 Clubsport\n"
     ]
    },
    {
     "name": "stderr",
     "output_type": "stream",
     "text": [
      "Some characters could not be decoded, and were replaced with REPLACEMENT CHARACTER.\n"
     ]
    },
    {
     "name": "stdout",
     "output_type": "stream",
     "text": [
      "Total times: 424\n",
      "Fetching data: Porsche Macan Turbo\n",
      "Total times: 35\n",
      "Fetching data: Porsche Panamera Turbo\n",
      "Total times: 50\n",
      "Fetching data: Praga R1\n",
      "Total times: 244\n",
      "Fetching data: RUF CTR Yellowbird\n",
      "Total times: 66\n",
      "Fetching data: RUF RT12 R\n",
      "Total times: 30\n",
      "Fetching data: RUF RT12 R AWD\n",
      "Total times: 24\n",
      "Fetching data: SCG 003C\n"
     ]
    },
    {
     "name": "stderr",
     "output_type": "stream",
     "text": [
      "Some characters could not be decoded, and were replaced with REPLACEMENT CHARACTER.\n"
     ]
    },
    {
     "name": "stdout",
     "output_type": "stream",
     "text": [
      "Total times: 197\n",
      "Fetching data: Shelby Cobra 427 S/C\n",
      "Total times: 76\n",
      "Fetching data: Tatuus FA01\n"
     ]
    },
    {
     "name": "stderr",
     "output_type": "stream",
     "text": [
      "Some characters could not be decoded, and were replaced with REPLACEMENT CHARACTER.\n",
      "Some characters could not be decoded, and were replaced with REPLACEMENT CHARACTER.\n"
     ]
    },
    {
     "name": "stdout",
     "output_type": "stream",
     "text": [
      "Total times: 3150\n",
      "Fetching data: Toyota AE86\n",
      "Total times: 39\n",
      "Fetching data: Toyota AE86 Drift\n",
      "Total times: 0\n",
      "Fetching data: Toyota AE86 Tuned\n"
     ]
    },
    {
     "name": "stderr",
     "output_type": "stream",
     "text": [
      "Some characters could not be decoded, and were replaced with REPLACEMENT CHARACTER.\n"
     ]
    },
    {
     "name": "stdout",
     "output_type": "stream",
     "text": [
      "Total times: 30\n",
      "Fetching data: Toyota Celica ST185 4WD Turbo\n",
      "Total times: 36\n",
      "Fetching data: Toyota GT86\n",
      "Total times: 361\n",
      "Fetching data: Toyota Supra MKIV\n"
     ]
    },
    {
     "name": "stderr",
     "output_type": "stream",
     "text": [
      "Some characters could not be decoded, and were replaced with REPLACEMENT CHARACTER.\n"
     ]
    },
    {
     "name": "stdout",
     "output_type": "stream",
     "text": [
      "Total times: 340\n",
      "Fetching data: Toyota Supra MKIV Drift\n",
      "Total times: 0\n",
      "Fetching data: Toyota Supra MKIV Time Attack\n",
      "Total times: 90\n",
      "Fetching data: Toyota TS040 Hybrid 2014\n",
      "Total times: 229\n"
     ]
    }
   ],
   "source": [
    "def fetch_html_content(url):\n",
    "    \"\"\"Fetches HTML content from the given URL using requests and BeautifulSoup.\"\"\"\n",
    "    headers = {\n",
    "        \"User-Agent\": \"Mozilla/5.0 (Windows NT 10.0; Win64; x64) AppleWebKit/537.36 (KHTML, like Gecko) Chrome/126.0.0.0 Safari/537.36\"\n",
    "    }\n",
    "    with requests.Session() as session:\n",
    "        session.headers.update(headers)\n",
    "        response = session.get(url)\n",
    "    return response\n",
    "\n",
    "def extract_lap_times(html_content):\n",
    "    \"\"\"Extracts lap times from parsed HTML content.\"\"\"\n",
    "    soup = BeautifulSoup(html_content, 'html.parser')\n",
    "    table_items = soup.select('tbody td a')\n",
    "    lap_times = []\n",
    "    for a in table_items:\n",
    "        text = a.get_text()\n",
    "        if re.findall(\"\\d:\\d\", text):\n",
    "            lap_times.append(convert_str_to_sec(text))\n",
    "    return lap_times\n",
    "\n",
    "def fetch_all_lap_times(base_url, car_ids):\n",
    "    \"\"\"Fetches lap times for all car IDs.\"\"\"\n",
    "    all_times = {}\n",
    "    for car_id in car_ids:\n",
    "        print(f\"Fetching data: {all_cars[car_id]}\")\n",
    "        times = []\n",
    "        p_num = 1\n",
    "        while True:\n",
    "            if p_num == 1: \n",
    "                url = base_url.format(car_id, \"\")\n",
    "            else: \n",
    "                page = \"&p={}\".format(p_num)\n",
    "                url = base_url.format(car_id, page)\n",
    "            \n",
    "            response = fetch_html_content(url)\n",
    "            \n",
    "            if response.status_code == 200:\n",
    "                table_items = extract_lap_times(response.content)\n",
    "                if not table_items or len(table_items) < 10:\n",
    "                    break\n",
    "                times.extend(table_items)\n",
    "                p_num += 1\n",
    "            else:\n",
    "                print(f\"Failed to fetch data for car ID {car_id}. Status code: {response.status_code}\")\n",
    "                break\n",
    "        \n",
    "        all_times[car_id] = times\n",
    "        print(f\"Total times: {len(times)}\")\n",
    "    \n",
    "    return all_times\n",
    "\n",
    "def mean(list_nums):\n",
    "    \"\"\"Calculates the mean of a list of numbers.\"\"\"\n",
    "    return np.mean(list_nums)\n",
    "\n",
    "def convert_str_to_sec(time_str):\n",
    "    \"\"\"Converts a string formatted as 'M:SS.SSS' to seconds.\"\"\"\n",
    "    try:\n",
    "        dt_time = datetime.strptime(time_str.strip(), '%M:%S.%f')\n",
    "    except ValueError:\n",
    "        time_str = re.findall('(\\d+:\\d{2}.\\d{3})', time_str.strip())[0]\n",
    "        dt_time = datetime.strptime(time_str, '%M:%S.%f')\n",
    "    \n",
    "    seconds = dt_time.minute * 60 + dt_time.second + dt_time.microsecond / 1000000\n",
    "    return seconds\n",
    "\n",
    "def reject_outliers(data, m=2.):\n",
    "    \"\"\"Removes outliers from data using median absolute deviation.\"\"\"\n",
    "    d = np.abs(data - np.median(data))\n",
    "    mdev = np.median(d)\n",
    "    s = d / mdev if mdev else np.zeros(len(d))\n",
    "    return data[s < m]\n",
    "\n",
    "def sec_to_format(time):\n",
    "    \"\"\"Converts seconds to formatted time string.\"\"\"\n",
    "    minutes = int(np.floor(time / 60))\n",
    "    seconds = int(np.floor(time % 60))\n",
    "    milliseconds = round((time - minutes * 60 - seconds) * 1000)\n",
    "    return f\"{minutes}:{seconds:02}.{milliseconds:03}\"\n",
    "\n",
    "# Base URL for fetching data\n",
    "base_url = \"http://www.radiators-champ.com/RSRLiveTiming/index.php?page=rank&track=20&car={}&rank_type=all&tyre_type=all&controller_type=all&community=all&friends=all{}\"\n",
    "\n",
    "\n",
    "# Fetch lap times for all cars\n",
    "all_times = fetch_all_lap_times(base_url, all_cars.keys())\n"
   ]
  },
  {
   "cell_type": "code",
   "execution_count": 15,
   "metadata": {},
   "outputs": [
    {
     "name": "stdout",
     "output_type": "stream",
     "text": [
      "Lotus Exos 125 96.25627787307032\n"
     ]
    }
   ],
   "source": [
    "averages = {}\n",
    "\n",
    "for car_id in all_times.keys():\n",
    "\n",
    "    car = all_cars[car_id]\n",
    "    times = np.asarray(all_times[car_id])\n",
    "    avg = np.mean(reject_outliers(times))\n",
    "\n",
    "    if car_id == '74':\n",
    "        print(car, avg)\n",
    "\n",
    "    averages[car] = round(avg, 3)"
   ]
  },
  {
   "cell_type": "code",
   "execution_count": 16,
   "metadata": {},
   "outputs": [],
   "source": [
    "import time\n",
    "\n",
    "def sort_dict(to_sort):\n",
    "    new = {}\n",
    "    start = time.time()\n",
    "    while len(new) < len(to_sort) and (time.time() - start) < 10:\n",
    "        lowest_not_in = (None, 1000)\n",
    "        for k, v in to_sort.items():\n",
    "            if len(new) == 0:\n",
    "                if v < lowest_not_in[1]:\n",
    "                    lowest_not_in = (k, v)\n",
    "                else: pass\n",
    "            else:\n",
    "                if v > list(new.values())[-1] and v < lowest_not_in[1]:\n",
    "                    lowest_not_in = (k, v)\n",
    "        new.update( {lowest_not_in[0] : lowest_not_in[1]} )\n",
    "\n",
    "    return new"
   ]
  },
  {
   "cell_type": "code",
   "execution_count": 17,
   "metadata": {},
   "outputs": [],
   "source": [
    "sorted_times = sort_dict(averages)"
   ]
  },
  {
   "cell_type": "code",
   "execution_count": 18,
   "metadata": {},
   "outputs": [
    {
     "data": {
      "text/plain": [
       "{'Abarth 500 Assetto Corse': 139.674,\n",
       " 'Abarth 500 EsseEsse': 150.821,\n",
       " 'Abarth 500 EsseEsse Step1': 147.514,\n",
       " 'Abarth 595 SS': 209.864,\n",
       " 'Abarth 595 SS Step 1': 203.686,\n",
       " 'Abarth 595 SS Step 2': 173.848,\n",
       " 'Alfa Romeo 155 TI V6': 123.438,\n",
       " 'Alfa Romeo 33 Stradale': 133.098,\n",
       " 'Alfa Romeo 4C': 134.093,\n",
       " 'Alfa Romeo Giulia Quadrifoglio': 125.698,\n",
       " 'Alfa Romeo GTA': 147.663,\n",
       " 'Alfa Romeo Mito QV': 150.036,\n",
       " 'Audi R18 e-tron quattro 2014': 99.177,\n",
       " 'Audi R8 LMS 2016': 110.891,\n",
       " 'Audi R8 LMS Ultra': 112.192,\n",
       " 'Audi R8 V10 Plus': 125.335,\n",
       " 'Audi S1': 143.352,\n",
       " 'Audi Sport quattro': 139.855,\n",
       " 'Audi Sport quattro S1 E2': 118.864,\n",
       " 'Audi Sport quattro Step1': 135.239,\n",
       " 'Audi TT Cup': 123.847,\n",
       " 'Audi TT RS (VLN)': 117.2,\n",
       " 'BMW 1M': 134.239,\n",
       " 'BMW 1M Stage 3': 132.516,\n",
       " 'BMW M235i Racing': 127.312,\n",
       " 'BMW M3 E30': 145.27,\n",
       " 'BMW M3 E30 Drift': nan,\n",
       " 'BMW M3 E30 Gr.A 92': 122.98,\n",
       " 'BMW M3 E30 Group A': 133.01,\n",
       " 'BMW M3 E30 Step1': 142.062,\n",
       " 'BMW M3 E92': 133.013,\n",
       " 'BMW M3 E92 drift': nan,\n",
       " 'BMW M3 E92 Step1': 130.957,\n",
       " 'BMW M3 GT2': 112.583,\n",
       " 'BMW M4': 130.64,\n",
       " 'BMW M4 Akrapovic': 130.002,\n",
       " 'BMW Z4 E89': 137.88,\n",
       " 'BMW Z4 E89 Drift': nan,\n",
       " 'BMW Z4 E89 Step1': 135.889,\n",
       " 'BMW Z4 GT3': 111.385,\n",
       " 'Chevrolet Corvette C7 Stingray': 127.181,\n",
       " 'Chevrolet Corvette C7R': 111.2,\n",
       " 'Dallara F312': 112.388,\n",
       " 'Dallara F317': 106.487,\n",
       " 'Ferrari 250 GTO': 140.448,\n",
       " 'Ferrari 312/67': 115.785,\n",
       " 'Ferrari 312T': 109.954,\n",
       " 'Ferrari 330 P4': 122.24,\n",
       " 'Ferrari 458 GT2': 111.369,\n",
       " 'Ferrari 458 Italia': 122.478,\n",
       " 'Ferrari 458 Italia Stage 3': 114.933,\n",
       " 'Ferrari 488 GT3': 112.003,\n",
       " 'Ferrari 488 GTB': 117.332,\n",
       " 'Ferrari 599XX EVO': 107.8,\n",
       " 'Ferrari 812 Superfast': 115.752,\n",
       " 'Ferrari F138': 89.907,\n",
       " 'Ferrari F2004': 84.25,\n",
       " 'Ferrari F40': 125.376,\n",
       " 'Ferrari F40 Stage 3': 117.458,\n",
       " 'Ferrari FXX K': 105.764,\n",
       " 'Ferrari GTO': 127.545,\n",
       " 'Ferrari LaFerrari': 107.609,\n",
       " 'Ferrari SF15-T': 90.833,\n",
       " 'Ferrari SF70H': 87.679,\n",
       " 'Ford Escort RS1600': 138.827,\n",
       " 'Ford GT40': 124.871,\n",
       " 'Ford Mustang 2015': 133.883,\n",
       " 'Giulietta QV': 145.009,\n",
       " 'Giulietta QV Launch Edition 2014': 145.323,\n",
       " 'KTM X-Bow R': 126.286,\n",
       " 'Lamborghini Aventador SV': 117.298,\n",
       " 'Lamborghini Countach': 131.96,\n",
       " 'Lamborghini Countach S1': 131.968,\n",
       " 'Lamborghini Gallardo SL': 119.998,\n",
       " 'Lamborghini Gallardo SL Step3': 113.164,\n",
       " 'Lamborghini Huracan GT3': 110.887,\n",
       " 'Lamborghini Huracan Performant': nan,\n",
       " 'Lamborghini Huracan Performante': nan,\n",
       " 'Lamborghini Huracan ST': 111.624,\n",
       " 'Lamborghini Miura P400 SV': 140.63,\n",
       " 'Lamborghini Sesto Elemento': 114.106,\n",
       " 'Lotus 2-Eleven': 126.098,\n",
       " 'Lotus 2-Eleven GT4': 124.243,\n",
       " 'Lotus 3-Eleven': 113.535,\n",
       " 'Lotus 72D': 110.07,\n",
       " 'Lotus 98T': 96.731,\n",
       " 'Lotus Elise SC': 138.192,\n",
       " 'Lotus Elise SC Step1': 137.684,\n",
       " 'Lotus Elise SC Step2': 137.236,\n",
       " 'Lotus Evora GTC': 116.577,\n",
       " 'Lotus Evora GTE': 128.989,\n",
       " 'Lotus Evora GTE Carbon': 126.454,\n",
       " 'Lotus Evora GX': 116.218,\n",
       " 'Lotus Evora S': 130.236,\n",
       " 'Lotus Evora S Stage 2': 130.235,\n",
       " 'Lotus Exige 240R': 133.148,\n",
       " 'Lotus Exige 240R Stage3': 127.901,\n",
       " 'Lotus Exige S': 130.969,\n",
       " 'Lotus Exige S roadster': 129.909,\n",
       " 'Lotus Exige Scura': 132.418,\n",
       " 'Lotus Exige V6 CUP': 127.735,\n",
       " 'Lotus Exos 125': 96.256,\n",
       " 'Lotus Exos 125 Stage 1': 89.826,\n",
       " 'Lotus Type 25': 139.211,\n",
       " 'Lotus Type 49': 115.088,\n",
       " 'Maserati 250F 12 cylinder': 140.734,\n",
       " 'Maserati 250F 6 cylinder': 140.767,\n",
       " 'Maserati Alfieri': 128.603,\n",
       " 'Maserati GranTurismo MC GT4': 121.403,\n",
       " 'Maserati Levante S': 138.05,\n",
       " 'Maserati MC12 GT1': 110.55,\n",
       " 'Maserati Quattroporte GTS': 131.476,\n",
       " 'Mazda 787B': 106.932,\n",
       " 'Mazda Miata NA': 165.789,\n",
       " 'Mazda MX5 Cup': 139.345,\n",
       " 'Mazda MX5 ND': 149.135,\n",
       " 'Mazda RX-7 Spirit R': 133.801,\n",
       " 'Mazda RX-7 Tuned': 128.595,\n",
       " 'McLaren 570S': 119.268,\n",
       " 'McLaren 650S GT3': 111.355,\n",
       " 'McLaren F1 GTR': 111.854,\n",
       " 'McLaren MP4-12C': 122.689,\n",
       " 'McLaren MP4-12C GT3': 114.024,\n",
       " 'McLaren P1?': 107.929,\n",
       " 'McLaren P1? GTR': 104.917,\n",
       " 'Mercedes SLS AMG': 125.968,\n",
       " 'Mercedes SLS AMG GT3': 112.316,\n",
       " 'Mercedes-Benz 190E EVO II': 124.059,\n",
       " 'Mercedes-Benz AMG GT3': 111.939,\n",
       " 'Mercedes-Benz C9 1989 LM': 105.684,\n",
       " 'Nissan 370z Nismo': 137.756,\n",
       " 'Nissan GT-R GT3': 112.058,\n",
       " 'Nissan GT-R NISMO': 122.837,\n",
       " 'Nissan Skyline GTR R34 V-Spec': 138.606,\n",
       " 'P4/5 Competizione 2011': 114.364,\n",
       " 'Pagani Huayra': 113.066,\n",
       " 'Pagani Huayra BC': 108.853,\n",
       " 'Pagani Zonda R': 107.376,\n",
       " 'Porsche 718 Boxster S': 131.959,\n",
       " 'Porsche 718 Boxster S PDK': 131.513,\n",
       " 'Porsche 718 Cayman S': 130.441,\n",
       " 'Porsche 718 RS 60 Spyder': 147.39,\n",
       " 'Porsche 908 LH': 124.427,\n",
       " 'Porsche 911 Carrera RSR 3.0': 129.413,\n",
       " 'Porsche 911 Carrera S': 126.143,\n",
       " 'Porsche 911 GT1-98': 107.399,\n",
       " 'Porsche 911 GT3 Cup 2017': 113.16,\n",
       " 'Porsche 911 GT3 R 2016': 111.575,\n",
       " 'Porsche 911 GT3 RS': 121.297,\n",
       " 'Porsche 911 R': 123.205,\n",
       " 'Porsche 911 RSR 2017': 110.246,\n",
       " 'Porsche 911 Turbo S': 121.237,\n",
       " 'Porsche 917 K': 114.371,\n",
       " 'Porsche 917/30 Spyder': 104.912,\n",
       " 'Porsche 918 Spyder': 109.329,\n",
       " 'Porsche 919 Hybrid 2015': 94.838,\n",
       " 'Porsche 919 Hybrid 2016': 94.46,\n",
       " 'Porsche 935/78 Moby Dick': 112.023,\n",
       " 'Porsche 962 C Long Tail': 105.343,\n",
       " 'Porsche 962 C Short Tail': 105.805,\n",
       " 'Porsche Cayenne Turbo S': 133.769,\n",
       " 'Porsche Cayman GT4': 126.871,\n",
       " 'Porsche Cayman GT4 Clubsport': 119.765,\n",
       " 'Porsche Macan Turbo': 137.304,\n",
       " 'Porsche Panamera Turbo': 128.826,\n",
       " 'Praga R1': 117.738,\n",
       " 'RUF CTR Yellowbird': 126.489,\n",
       " 'RUF RT12 R': 121.116,\n",
       " 'RUF RT12 R AWD': 118.898,\n",
       " 'SCG 003C': 111.448,\n",
       " 'Shelby Cobra 427 S/C': 130.771,\n",
       " 'Tatuus FA01': 115.4,\n",
       " 'Toyota AE86': 158.623,\n",
       " 'Toyota AE86 Drift': nan,\n",
       " 'Toyota AE86 Tuned': 140.621,\n",
       " 'Toyota Celica ST185 4WD Turbo': 130.893,\n",
       " 'Toyota GT86': 144.57,\n",
       " 'Toyota Supra MKIV': 135.947,\n",
       " 'Toyota Supra MKIV Drift': nan,\n",
       " 'Toyota Supra MKIV Time Attack': 126.57,\n",
       " 'Toyota TS040 Hybrid 2014': 98.603}"
      ]
     },
     "execution_count": 18,
     "metadata": {},
     "output_type": "execute_result"
    }
   ],
   "source": [
    "averages"
   ]
  },
  {
   "cell_type": "code",
   "execution_count": 19,
   "metadata": {},
   "outputs": [],
   "source": [
    "import csv\n",
    "\n",
    "with open('times_monza.csv', 'w') as f:\n",
    "    w = csv.writer(f)\n",
    "    w.writerows(averages.items())"
   ]
  }
 ],
 "metadata": {
  "kernelspec": {
   "display_name": "base",
   "language": "python",
   "name": "python3"
  },
  "language_info": {
   "codemirror_mode": {
    "name": "ipython",
    "version": 3
   },
   "file_extension": ".py",
   "mimetype": "text/x-python",
   "name": "python",
   "nbconvert_exporter": "python",
   "pygments_lexer": "ipython3",
   "version": "3.11.5"
  }
 },
 "nbformat": 4,
 "nbformat_minor": 2
}
